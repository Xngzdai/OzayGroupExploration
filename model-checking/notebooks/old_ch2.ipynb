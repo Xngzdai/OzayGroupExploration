{
 "metadata": {
  "language_info": {
   "codemirror_mode": {
    "name": "ipython",
    "version": 3
   },
   "file_extension": ".py",
   "mimetype": "text/x-python",
   "name": "python",
   "nbconvert_exporter": "python",
   "pygments_lexer": "ipython3",
   "version": "3.9.5"
  },
  "orig_nbformat": 4,
  "kernelspec": {
   "name": "python3",
   "display_name": "Python 3.9.5 64-bit"
  },
  "interpreter": {
   "hash": "aee8b7b246df8f9039afb4144a1f6fd8d2ca17a180786b69acc140d282b71a49"
  }
 },
 "nbformat": 4,
 "nbformat_minor": 2,
 "cells": [
  {
   "cell_type": "code",
   "execution_count": 1,
   "metadata": {},
   "outputs": [
    {
     "output_type": "stream",
     "name": "stdout",
     "text": [
      "The first example is the classic Beverage Vending Machine Example:\nTS1.L =  {'pay': [], 'soda': ['paid', 'drink'], 'beer': ['paid', 'drink'], 'select': 'paid'}\n========================================\nTest Predecessor and Successor Functions\n \nTS1.post(pay,insert_coin) =  ['select']\nTS1.post(select,tau) =  ['beer', 'soda']\nTS1.post(select) =  ['beer', 'soda']\nTS1.pre(pay) =  ['beer', 'soda']\nc2.find_terminal_states(TS1) =  (False, [])\n \nCreating an example that WILL have terminal states.\n[['pay', 'insert_coin', 'select'], ['select', 'tau', 'beer'], ['select', 'tau', 'soda']]\nc2.find_terminal_states(TS2) =  (True, ['soda', 'beer'])\n"
     ]
    }
   ],
   "source": [
    "import sys\n",
    "sys.path.append('../lib/')\n",
    "from transition_system import transition_system\n",
    "from ch2_fcns import *\n",
    "\n",
    "print('The first example is the classic Beverage Vending Machine Example:')\n",
    "\n",
    "#Define the States of the Vending Machine according to Example 2.2 in text\n",
    "S = ['pay','soda','select','beer']\n",
    "I = [S[0]]\n",
    "Act = ['insert_coin','get_soda','get_beer','tau']\n",
    "Delta = [['pay','insert_coin','select']];\n",
    "Delta.append(['select','tau','beer'])\n",
    "Delta.append(['select','tau','soda'])\n",
    "Delta.append(['beer','get_beer','pay'])\n",
    "Delta.append(['soda','get_soda','pay'])\n",
    "AP = ['paid','drink']\n",
    "L = {}\n",
    "L['pay'] = []\n",
    "L['soda'] = AP\n",
    "L['beer'] = AP\n",
    "L['select'] = 'paid'\n",
    "\n",
    "TS1 = transition_system(S,Act,Delta,I,AP,L)\n",
    "\n",
    "print('TS1.L = ',TS1.L)\n",
    "\n",
    "print('========================================')\n",
    "print('Test Predecessor and Successor Functions')\n",
    "print(' ')\n",
    "print('TS1.post(pay,insert_coin) = ',TS1.post(['pay'],'insert_coin'))\n",
    "print('TS1.post(select,tau) = ',TS1.post(['select'],'tau'))\n",
    "print('TS1.post(select) = ',TS1.post(['select']))\n",
    "print('TS1.pre(pay) = ',TS1.pre(['pay']))\n",
    "\n",
    "print('c2.find_terminal_states(TS1) = ',find_terminal_states(TS1))\n",
    "print(' ')\n",
    "print('Creating an example that WILL have terminal states.')\n",
    "Delta2 = Delta;\n",
    "del Delta2[-1]\n",
    "del Delta2[-1]\n",
    "print(Delta2)\n",
    "TS2 = transition_system(S,Act,Delta2,I,AP,L)\n",
    "\n",
    "print('c2.find_terminal_states(TS2) = ',find_terminal_states(TS2))"
   ]
  },
  {
   "source": [
    "My implementation of the Transition System interleaving operation is implemented here: Recall the definition of the operator:\n",
    "\n",
    "> Let $TS_i = (S_i,Act_i,\\rightarrow_i,I_i,AP_i,L_i) \\; i =1,2$ be two transition systems. The transition system $TS_1 || TS_2$ is defined by:\n",
    "> $$ TS_1 || TS_2 = (S_1 \\times S_2, Act_1 \\cup Act_2, \\rightarrow, I_1 \\times I_2, AP_1 \\times AP_2, L) $$\n",
    "> where the transition relation $\\rightarrow$ is defined by the following rules:\n",
    "> $$ \\frac{s_1 \\overset{\\alpha}{\\rightarrow} s_1'}{ \\langle s_1,s_2 \\rangle \\overset{\\alpha}{\\rightarrow} \\langle s_1',s_2 \\rangle } \\text{ and } \\frac{s_2 \\overset{\\alpha}{\\rightarrow} s_2'}{ \\langle s_1,s_2 \\rangle \\overset{\\alpha}{\\rightarrow} \\langle s_1,s_2' \\rangle } $$\n",
    ">and the laveling function is defined by $L(\\langle s_1 , s_2 \\rangle) = L_1(s_1) \\cup L_2(s_2)  $\n"
   ],
   "cell_type": "markdown",
   "metadata": {}
  },
  {
   "cell_type": "code",
   "execution_count": 2,
   "metadata": {},
   "outputs": [
    {
     "output_type": "stream",
     "name": "stdout",
     "text": [
      "[[(0, 7), 'alpha', (1, 7)], [(0, 5), 'alpha', (1, 5)]]\n[(0, 7), (0, 5), (1, 7), (1, 5)]\n{(0, 7): [0, 7], (0, 5): [0, 5], (1, 7): [1, 7], (1, 5): [1, 5]}\n"
     ]
    }
   ],
   "source": [
    "TS3 = transition_system([0,1],['alpha'],[[0,'alpha',1]],[0],[0,1],{0:[0],1:[1]})\n",
    "TS4 = transition_system([7,5],['beta'],[[7,'beta',5]],[7],[7,5],{7:[7],5:[5]})\n",
    "\n",
    "TS5 = interleave(TS3,TS4)\n",
    "print(TS5.trans)\n",
    "print(TS5.S)\n",
    "print(TS5.L)"
   ]
  },
  {
   "source": [
    "# Atomic Propositions\n",
    "\n",
    "These will be the important building blocks of some of our formulas."
   ],
   "cell_type": "markdown",
   "metadata": {}
  },
  {
   "cell_type": "code",
   "execution_count": 3,
   "metadata": {},
   "outputs": [
    {
     "output_type": "stream",
     "name": "stdout",
     "text": [
      "True\nTrue\n"
     ]
    }
   ],
   "source": [
    "from transition_system import atomic_proposition\n",
    "\n",
    "ap1 = atomic_proposition(\"A\")\n",
    "ap2 = atomic_proposition(\"B\")\n",
    "ap3 = atomic_proposition(\"A\")\n",
    "\n",
    "print(ap1 != ap2)\n",
    "print(ap3 == ap3)\n"
   ]
  },
  {
   "cell_type": "code",
   "execution_count": null,
   "metadata": {},
   "outputs": [],
   "source": []
  }
 ]
}